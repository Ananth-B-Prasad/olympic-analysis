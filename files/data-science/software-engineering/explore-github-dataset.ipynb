{
 "cells": [
  {
   "cell_type": "code",
   "execution_count": null,
   "metadata": {},
   "outputs": [],
   "source": [
    "# import the pandas package\n",
    "# note that this was specified as a project\n",
    "# dependency in the pyproject.toml file\n",
    "import pandas"
   ]
  },
  {
   "cell_type": "code",
   "execution_count": null,
   "metadata": {},
   "outputs": [],
   "source": [
    "# WORKS ON: Local Jupyter Lab Server or Local or Remote Jupyter Lite Server\n",
    "#\n",
    "# DOES NOT WORK ON: Google Colab\n",
    "#\n",
    "# Read in the validation data set by using the local file.\n",
    "#\n",
    "# Note that this will not work in Google Colab unless\n",
    "# you also upload this file to your Colab account.\n",
    "validation_data = pandas.read_csv('validation.csv')\n",
    "\n",
    "# display the entire data frame of a total of 200 rows\n",
    "validation_data"
   ]
  },
  {
   "cell_type": "code",
   "execution_count": null,
   "metadata": {},
   "outputs": [],
   "source": [
    "# WORKS ON: Local Jupyter Lab Server or Google Colab\n",
    "#\n",
    "# DOES NOT WORK ON: Local or Remote Jupyter Lite Server\n",
    "#\n",
    "# Read in the validation data set by using the raw\n",
    "# file that is stored in the GitHub repository.\n",
    "#\n",
    "# Note that this will not work correctly if the file called\n",
    "# validation.csv is moved to a different location in the \n",
    "# GitHub repository, thus causing the file's URL to change\n",
    "validation_data = pandas.read_csv('https://raw.githubusercontent.com/ReadyResearchers/www.readytoresearch.com/master/files/data-science/software-engineering/validation.csv')\n",
    "\n",
    "# display the entire data frame of a total of 200 rows\n",
    "validation_data"
   ]
  },
  {
   "cell_type": "code",
   "execution_count": null,
   "metadata": {},
   "outputs": [],
   "source": []
  }
 ],
 "metadata": {
  "kernelspec": {
   "display_name": "Python 3 (ipykernel)",
   "language": "python",
   "name": "python3"
  },
  "language_info": {
   "codemirror_mode": {
    "name": "ipython",
    "version": 3
   },
   "file_extension": ".py",
   "mimetype": "text/x-python",
   "name": "python",
   "nbconvert_exporter": "python",
   "pygments_lexer": "ipython3",
   "version": "3.10.1"
  },
  "toc-autonumbering": false,
  "toc-showcode": false,
  "toc-showmarkdowntxt": true
 },
 "nbformat": 4,
 "nbformat_minor": 4
}
