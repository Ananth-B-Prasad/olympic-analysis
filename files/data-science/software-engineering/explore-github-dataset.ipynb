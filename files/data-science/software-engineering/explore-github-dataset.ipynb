{
 "cells": [
  {
   "cell_type": "code",
   "execution_count": null,
   "metadata": {},
   "outputs": [],
   "source": [
    "# import the pandas package\n",
    "# import the matplotlib package\n",
    "# note that this was specified as a project\n",
    "# dependency in the pyproject.toml file\n",
    "import pandas\n",
    "import matplotlib"
   ]
  },
  {
   "cell_type": "code",
   "execution_count": null,
   "metadata": {},
   "outputs": [],
   "source": [
    "# WORKS ON: Local Jupyter Lab Server or Local or Remote Jupyter Lite Server\n",
    "#\n",
    "# DOES NOT WORK ON: Google Colab\n",
    "#\n",
    "# Read in the validation data set by using the local file.\n",
    "#\n",
    "# Note that this will not work in Google Colab unless\n",
    "# you also upload this file to your Colab account.\n",
    "validation_data = pandas.read_csv('validation.csv')\n",
    "\n",
    "# display the entire data frame of a total of 200 rows\n",
    "validation_data\n",
    "\n",
    "# modifying the Jupyter Notebook, which will appear in the GitHub repository after a git commit!"
   ]
  },
  {
   "cell_type": "code",
   "execution_count": null,
   "metadata": {},
   "outputs": [],
   "source": [
    "# WORKS ON: Local Jupyter Lab Server or Google Colab\n",
    "#\n",
    "# DOES NOT WORK ON: Local or Remote Jupyter Lite Server\n",
    "#\n",
    "# Read in the validation data set by using the raw\n",
    "# file that is stored in the GitHub repository.\n",
    "#\n",
    "# Note that this will not work correctly if the file called\n",
    "# validation.csv is moved to a different location in the \n",
    "# GitHub repository, thus causing the file's URL to change\n",
    "validation_data = pandas.read_csv('https://raw.githubusercontent.com/ReadyResearchers/www.readytoresearch.com/master/files/data-science/software-engineering/validation.csv')\n",
    "\n",
    "# display the entire data frame of a total of 200 rows\n",
    "validation_data"
   ]
  },
  {
   "cell_type": "code",
   "execution_count": null,
   "metadata": {},
   "outputs": [],
   "source": [
    "# summarize all of the attributes (i.e., columns) in the data frame\n",
    "# https://datatofish.com/descriptive-statistics-pandas/\n",
    "df = validation_data\n",
    "df.describe(include='all')"
   ]
  },
  {
   "cell_type": "code",
   "execution_count": null,
   "metadata": {},
   "outputs": [],
   "source": [
    "# summarize specific attributes (i.e., columns) in the data frame\n",
    "# Reference: https://pandas.pydata.org/docs/getting_started/intro_tutorials/06_calculate_statistics.html\n",
    "df = validation_data\n",
    "print(f\"Calculated mean value of architecture: {df['architecture'].mean()}\")\n",
    "print(f\"Calculated median value of architecture: {df['architecture'].median()}\")\n",
    "print(f\"Calculated standard deviation of architecture: {df['architecture'].std()}\")"
   ]
  },
  {
   "cell_type": "code",
   "execution_count": null,
   "metadata": {},
   "outputs": [],
   "source": [
    "# calculate all summary statistics for specific columns in the data frame\n",
    "# Reference: https://pandas.pydata.org/docs/getting_started/intro_tutorials/06_calculate_statistics.html\n",
    "df = validation_data\n",
    "df[[\"architecture\", \"continuous_integration\"]].describe()"
   ]
  },
  {
   "cell_type": "code",
   "execution_count": null,
   "metadata": {},
   "outputs": [],
   "source": [
    "# find all of the projects that have a license\n",
    "# Reference: https://pandas.pydata.org/docs/reference/api/pandas.DataFrame.loc.html\n",
    "df = validation_data\n",
    "df.loc[lambda df: df['license'] == 1]"
   ]
  },
  {
   "cell_type": "code",
   "execution_count": null,
   "metadata": {},
   "outputs": [],
   "source": [
    "# find all of the projects that do not have a license\n",
    "# Reference: https://pandas.pydata.org/docs/reference/api/pandas.DataFrame.loc.html\n",
    "df = validation_data\n",
    "df.loc[lambda df: df['license'] == 0]"
   ]
  },
  {
   "cell_type": "code",
   "execution_count": null,
   "metadata": {},
   "outputs": [],
   "source": [
    "# find all of the projects have more than 50 stars\n",
    "# Reference: https://pandas.pydata.org/docs/reference/api/pandas.DataFrame.loc.html\n",
    "df = validation_data\n",
    "df.loc[lambda df: df['stars'] > 50]"
   ]
  },
  {
   "cell_type": "code",
   "execution_count": null,
   "metadata": {},
   "outputs": [],
   "source": [
    "# find all of the projects have more than 25 stars\n",
    "# Reference: https://pandas.pydata.org/docs/reference/api/pandas.DataFrame.loc.html\n",
    "df = validation_data\n",
    "df.loc[lambda df: df['stars'] > 25]"
   ]
  },
  {
   "cell_type": "code",
   "execution_count": null,
   "metadata": {},
   "outputs": [],
   "source": [
    "# create a histogram plot of attributes in the data frame\n",
    "df = validation_data\n",
    "df.hist(column=[\"architecture\", \"documentation\"])"
   ]
  },
  {
   "cell_type": "code",
   "execution_count": null,
   "metadata": {},
   "outputs": [],
   "source": [
    "# create a histogram plot of attributes in the data frame\n",
    "df = validation_data\n",
    "df.hist(column=[\"history\", \"management\"])"
   ]
  },
  {
   "cell_type": "code",
   "execution_count": null,
   "metadata": {},
   "outputs": [],
   "source": [
    "# create a histogram plot of attributes in the data frame\n",
    "df = validation_data\n",
    "df.hist(column=[\"repository_size\", \"unit_test\"])"
   ]
  },
  {
   "cell_type": "code",
   "execution_count": null,
   "metadata": {},
   "outputs": [],
   "source": [
    "# create a histogram plot of attributes in the data frame\n",
    "df = validation_data\n",
    "df.hist(column=[\"stars\"])"
   ]
  },
  {
   "cell_type": "code",
   "execution_count": null,
   "metadata": {},
   "outputs": [],
   "source": [
    "# demonstration of decision trees using scikit learn\n",
    "# Reference: https://scikit-learn.org/stable/modules/tree.html"
   ]
  },
  {
   "cell_type": "code",
   "execution_count": null,
   "metadata": {},
   "outputs": [],
   "source": [
    "# import the required data set and then the decision\n",
    "# tree model provided by sklearn\n",
    "from sklearn.datasets import load_iris\n",
    "from sklearn import tree"
   ]
  },
  {
   "cell_type": "code",
   "execution_count": null,
   "metadata": {},
   "outputs": [],
   "source": [
    "# load the data set that will be analyzed and for\n",
    "# which we will make predictions\n",
    "iris = load_iris()\n",
    "X, y = iris.data, iris.target"
   ]
  },
  {
   "cell_type": "code",
   "execution_count": null,
   "metadata": {},
   "outputs": [],
   "source": [
    "# display the contents of the data sets so that\n",
    "# it is possible to visualize the structure of X,\n",
    "# which is the attributes on which we will train and\n",
    "# Y, the attribute that we are attempting to predict\n",
    "print(iris)\n",
    "print(X)\n",
    "print(y)"
   ]
  },
  {
   "cell_type": "code",
   "execution_count": null,
   "metadata": {},
   "outputs": [],
   "source": [
    "# create the decision tree model and train it\n",
    "clf = tree.DecisionTreeClassifier()\n",
    "clf = clf.fit(X, y)"
   ]
  },
  {
   "cell_type": "code",
   "execution_count": null,
   "metadata": {},
   "outputs": [],
   "source": [
    "# display the tree so that we can see how it\n",
    "# makes predictions as it goes from the root\n",
    "# to the leave of the tree; note that the leaf\n",
    "# of the tree designates a prediction in and of itself\n",
    "tree.plot_tree(clf)"
   ]
  },
  {
   "cell_type": "code",
   "execution_count": null,
   "metadata": {},
   "outputs": [],
   "source": [
    "# since the default tree output is hard to read, use an external\n",
    "# package to make it easier to visualize the tree's structure\n",
    "import graphviz \n",
    "dot_data = tree.export_graphviz(clf, out_file=None, \n",
    "                     feature_names=iris.feature_names,  \n",
    "                     class_names=iris.target_names,  \n",
    "                     filled=True, rounded=True,  \n",
    "                     special_characters=True)  \n",
    "graph = graphviz.Source(dot_data)  \n",
    "graph"
   ]
  },
  {
   "cell_type": "code",
   "execution_count": null,
   "metadata": {},
   "outputs": [],
   "source": [
    "# display the tree using a text-based approach\n",
    "from sklearn.tree import export_text\n",
    "r = export_text(clf, feature_names=iris['feature_names'])\n",
    "print(r)"
   ]
  },
  {
   "cell_type": "code",
   "execution_count": null,
   "metadata": {},
   "outputs": [],
   "source": [
    "# install the package from GitHub if you are running in\n",
    "# Google colab because that system does not pick up the\n",
    "# dependencies that are inside of the pyproject.toml file\n",
    "!pip install git+https://github.com/parrt/dtreeviz.git"
   ]
  },
  {
   "cell_type": "code",
   "execution_count": null,
   "metadata": {},
   "outputs": [],
   "source": [
    "# Reference for the dtreeviz package:\n",
    "# https://github.com/parrt/dtreeviz\n",
    "\n",
    "# Note that there are many different types\n",
    "# of visualizations that this package can produce\n",
    "from dtreeviz.trees import dtreeviz\n",
    "\n",
    "viz = dtreeviz(clf, X, y,\n",
    "                target_name=\"target\",\n",
    "                feature_names=iris.feature_names,\n",
    "                class_names=list(iris.target_names))\n",
    "\n",
    "viz"
   ]
  },
  {
   "cell_type": "code",
   "execution_count": null,
   "metadata": {},
   "outputs": [],
   "source": [
    "# Questions about how to perform data visualization or model building?\n",
    "# Please ask them in Discord!"
   ]
  }
 ],
 "metadata": {
  "kernelspec": {
   "display_name": "Python 3 (ipykernel)",
   "language": "python",
   "name": "python3"
  },
  "language_info": {
   "codemirror_mode": {
    "name": "ipython",
    "version": 3
   },
   "file_extension": ".py",
   "mimetype": "text/x-python",
   "name": "python",
   "nbconvert_exporter": "python",
   "pygments_lexer": "ipython3",
   "version": "3.10.5"
  },
  "toc-autonumbering": false,
  "toc-showcode": false,
  "toc-showmarkdowntxt": true
 },
 "nbformat": 4,
 "nbformat_minor": 4
}
